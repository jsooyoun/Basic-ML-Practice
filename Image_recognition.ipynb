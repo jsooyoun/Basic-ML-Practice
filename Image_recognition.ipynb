{
  "nbformat": 4,
  "nbformat_minor": 0,
  "metadata": {
    "colab": {
      "provenance": [],
      "authorship_tag": "ABX9TyPFtMpIJLd6BHFxZpum1eyk",
      "include_colab_link": true
    },
    "kernelspec": {
      "name": "python3",
      "display_name": "Python 3"
    },
    "language_info": {
      "name": "python"
    }
  },
  "cells": [
    {
      "cell_type": "markdown",
      "metadata": {
        "id": "view-in-github",
        "colab_type": "text"
      },
      "source": [
        "<a href=\"https://colab.research.google.com/github/jsooyoun/Basic-ML-Practice/blob/main/Image_recognition.ipynb\" target=\"_parent\"><img src=\"https://colab.research.google.com/assets/colab-badge.svg\" alt=\"Open In Colab\"/></a>"
      ]
    },
    {
      "cell_type": "code",
      "execution_count": null,
      "metadata": {
        "colab": {
          "base_uri": "https://localhost:8080/"
        },
        "id": "rtNQMEa20vrc",
        "outputId": "c48031c5-339e-419f-a492-de32f4d8c900"
      },
      "outputs": [
        {
          "output_type": "stream",
          "name": "stdout",
          "text": [
            "Files already downloaded and verified\n"
          ]
        }
      ],
      "source": [
        "import torch\n",
        "import matplotlib.pyplot as plt\n",
        "import numpy as np\n",
        "from torchvision.datasets import CIFAR10\n",
        "cifar = CIFAR10(root='data', train=True, download=True)"
      ]
    },
    {
      "cell_type": "markdown",
      "source": [
        "#1"
      ],
      "metadata": {
        "id": "W-tzGyHtvmUZ"
      }
    },
    {
      "cell_type": "code",
      "source": [
        "(x, y) = cifar[13]\n",
        "plt.imshow(x)"
      ],
      "metadata": {
        "colab": {
          "base_uri": "https://localhost:8080/",
          "height": 447
        },
        "id": "XMVaucaI-7o5",
        "outputId": "91aa5f74-cb27-4378-81c2-6a466ff788bf"
      },
      "execution_count": null,
      "outputs": [
        {
          "output_type": "execute_result",
          "data": {
            "text/plain": [
              "<matplotlib.image.AxesImage at 0x7f24e0cac7f0>"
            ]
          },
          "metadata": {},
          "execution_count": 2
        },
        {
          "output_type": "display_data",
          "data": {
            "text/plain": [
              "<Figure size 640x480 with 1 Axes>"
            ],
            "image/png": "[encoded data removed]"
          },
          "metadata": {}
        }
      ]
    },
    {
      "cell_type": "markdown",
      "source": [
        "#2"
      ],
      "metadata": {
        "id": "tu4J0mt1vq0G"
      }
    },
    {
      "cell_type": "code",
      "source": [
        "X = np.asarray(x)\n",
        "X.shape"
      ],
      "metadata": {
        "colab": {
          "base_uri": "https://localhost:8080/"
        },
        "id": "DKP2We4B_5SO",
        "outputId": "666b8eec-3b96-4c92-8a19-a69c5c8c1fb3"
      },
      "execution_count": null,
      "outputs": [
        {
          "output_type": "execute_result",
          "data": {
            "text/plain": [
              "(32, 32, 3)"
            ]
          },
          "metadata": {},
          "execution_count": 3
        }
      ]
    },
    {
      "cell_type": "markdown",
      "source": [
        "This shapes represents a 3 dimensional matrix. Its length and width are both 32, represented by the 32 pixels in the image along the x and y axis. The height of the matrix is represented by the 3 color channels used to display images (red, green, blue)."
      ],
      "metadata": {
        "id": "Mi4-a-JQESRU"
      }
    },
    {
      "cell_type": "markdown",
      "source": [
        "#3"
      ],
      "metadata": {
        "id": "EKXR3yc9v0B9"
      }
    },
    {
      "cell_type": "code",
      "source": [
        "print(X.dtype)\n",
        "X_range = np.max(X) - np.min(X)\n",
        "print(X_range )"
      ],
      "metadata": {
        "colab": {
          "base_uri": "https://localhost:8080/"
        },
        "id": "ehzaHEHHDE38",
        "outputId": "03c0d1d7-4cc5-4e89-b4c9-36ba1228725a"
      },
      "execution_count": null,
      "outputs": [
        {
          "output_type": "stream",
          "name": "stdout",
          "text": [
            "uint8\n",
            "244\n"
          ]
        }
      ]
    },
    {
      "cell_type": "markdown",
      "source": [
        "#4"
      ],
      "metadata": {
        "id": "JIU0FNu6v4AI"
      }
    },
    {
      "cell_type": "code",
      "source": [
        "blueX = X[:, :, 2]\n",
        "plt.imshow(blueX, cmap='gray')"
      ],
      "metadata": {
        "colab": {
          "base_uri": "https://localhost:8080/",
          "height": 447
        },
        "id": "xBuMENF-Enxn",
        "outputId": "770a3f65-22f3-49fd-84b9-f933c0fe17ff"
      },
      "execution_count": null,
      "outputs": [
        {
          "output_type": "execute_result",
          "data": {
            "text/plain": [
              "<matplotlib.image.AxesImage at 0x7f24e0ba7970>"
            ]
          },
          "metadata": {},
          "execution_count": 5
        },
        {
          "output_type": "display_data",
          "data": {
            "text/plain": [
              "<Figure size 640x480 with 1 Axes>"
            ],
            "image/png": "[encoded data removed]"
          },
          "metadata": {}
        }
      ]
    },
    {
      "cell_type": "markdown",
      "source": [
        "#5"
      ],
      "metadata": {
        "id": "Cru0pQkFv85Z"
      }
    },
    {
      "cell_type": "code",
      "source": [
        "from torchvision.transforms import ToTensor\n",
        "totensor = ToTensor()\n",
        "tensor = totensor(x)\n",
        "tensor"
      ],
      "metadata": {
        "colab": {
          "base_uri": "https://localhost:8080/"
        },
        "id": "ZwQtZx4-Fg78",
        "outputId": "6c9701ed-7147-414f-a273-a352a26ae148"
      },
      "execution_count": null,
      "outputs": [
        {
          "output_type": "execute_result",
          "data": {
            "text/plain": [
              "tensor([[[0.0667, 0.0667, 0.0667,  ..., 0.0902, 0.0863, 0.0745],\n",
              "         [0.0706, 0.0706, 0.0706,  ..., 0.0941, 0.0902, 0.0863],\n",
              "         [0.0706, 0.0706, 0.0745,  ..., 0.0941, 0.0902, 0.0902],\n",
              "         ...,\n",
              "         [0.8510, 0.8863, 0.8235,  ..., 0.1294, 0.1255, 0.1294],\n",
              "         [0.8588, 0.8706, 0.8392,  ..., 0.1373, 0.1333, 0.1294],\n",
              "         [0.8235, 0.8667, 0.8431,  ..., 0.1412, 0.1333, 0.1255]],\n",
              "\n",
              "        [[0.0118, 0.0118, 0.0078,  ..., 0.0510, 0.0471, 0.0353],\n",
              "         [0.0157, 0.0157, 0.0157,  ..., 0.0549, 0.0510, 0.0471],\n",
              "         [0.0157, 0.0157, 0.0196,  ..., 0.0549, 0.0510, 0.0510],\n",
              "         ...,\n",
              "         [0.8392, 0.8588, 0.7882,  ..., 0.0941, 0.0902, 0.0941],\n",
              "         [0.8431, 0.8431, 0.8157,  ..., 0.1020, 0.0980, 0.0941],\n",
              "         [0.8157, 0.8471, 0.8314,  ..., 0.1059, 0.0980, 0.0902]],\n",
              "\n",
              "        [[0.0078, 0.0078, 0.0039,  ..., 0.0431, 0.0392, 0.0275],\n",
              "         [0.0118, 0.0118, 0.0118,  ..., 0.0471, 0.0431, 0.0392],\n",
              "         [0.0118, 0.0118, 0.0157,  ..., 0.0471, 0.0431, 0.0431],\n",
              "         ...,\n",
              "         [0.8745, 0.8902, 0.8353,  ..., 0.0667, 0.0627, 0.0667],\n",
              "         [0.9020, 0.8980, 0.8824,  ..., 0.0745, 0.0706, 0.0667],\n",
              "         [0.8745, 0.8980, 0.8902,  ..., 0.0784, 0.0706, 0.0627]]])"
            ]
          },
          "metadata": {},
          "execution_count": 6
        }
      ]
    },
    {
      "cell_type": "code",
      "source": [
        "tensor.dtype"
      ],
      "metadata": {
        "colab": {
          "base_uri": "https://localhost:8080/"
        },
        "id": "hpvmbz_EFqJS",
        "outputId": "7d6fcbc4-6a51-4020-d08e-bc020492d9fb"
      },
      "execution_count": null,
      "outputs": [
        {
          "output_type": "execute_result",
          "data": {
            "text/plain": [
              "torch.float32"
            ]
          },
          "metadata": {},
          "execution_count": 7
        }
      ]
    },
    {
      "cell_type": "code",
      "source": [
        "tensor.shape"
      ],
      "metadata": {
        "colab": {
          "base_uri": "https://localhost:8080/"
        },
        "id": "nWMmlUUnFubN",
        "outputId": "b311e116-4ca7-4d6d-d71f-28f56b030901"
      },
      "execution_count": null,
      "outputs": [
        {
          "output_type": "execute_result",
          "data": {
            "text/plain": [
              "torch.Size([3, 32, 32])"
            ]
          },
          "metadata": {},
          "execution_count": 8
        }
      ]
    },
    {
      "cell_type": "markdown",
      "source": [
        "#6"
      ],
      "metadata": {
        "id": "7vPMp9s9wCBc"
      }
    },
    {
      "cell_type": "code",
      "source": [
        "bluetotensor = tensor[2, :, :]\n",
        "plt.imshow(bluetotensor, cmap='gray')\n",
        "bluetotensor"
      ],
      "metadata": {
        "colab": {
          "base_uri": "https://localhost:8080/",
          "height": 549
        },
        "id": "g9MHSftgF4XJ",
        "outputId": "8de323c5-2897-486e-e6ed-05400cae59e4"
      },
      "execution_count": null,
      "outputs": [
        {
          "output_type": "execute_result",
          "data": {
            "text/plain": [
              "tensor([[0.0078, 0.0078, 0.0039,  ..., 0.0431, 0.0392, 0.0275],\n",
              "        [0.0118, 0.0118, 0.0118,  ..., 0.0471, 0.0431, 0.0392],\n",
              "        [0.0118, 0.0118, 0.0157,  ..., 0.0471, 0.0431, 0.0431],\n",
              "        ...,\n",
              "        [0.8745, 0.8902, 0.8353,  ..., 0.0667, 0.0627, 0.0667],\n",
              "        [0.9020, 0.8980, 0.8824,  ..., 0.0745, 0.0706, 0.0667],\n",
              "        [0.8745, 0.8980, 0.8902,  ..., 0.0784, 0.0706, 0.0627]])"
            ]
          },
          "metadata": {},
          "execution_count": 9
        },
        {
          "output_type": "display_data",
          "data": {
            "text/plain": [
              "<Figure size 640x480 with 1 Axes>"
            ],
            "image/png": "[encoded data removed]"
          },
          "metadata": {}
        }
      ]
    },
    {
      "cell_type": "markdown",
      "source": [
        "#7"
      ],
      "metadata": {
        "id": "VQXQC-xlwGpn"
      }
    },
    {
      "cell_type": "code",
      "source": [
        "tensor_range = tensor.max().item() - tensor.min().item()\n",
        "tensor_range"
      ],
      "metadata": {
        "colab": {
          "base_uri": "https://localhost:8080/"
        },
        "id": "a3ZA0XdUGPeC",
        "outputId": "cad1cb23-ad2a-4147-b10a-023baef1ccaa"
      },
      "execution_count": null,
      "outputs": [
        {
          "output_type": "execute_result",
          "data": {
            "text/plain": [
              "0.95686274766922"
            ]
          },
          "metadata": {},
          "execution_count": 10
        }
      ]
    },
    {
      "cell_type": "markdown",
      "source": [
        "#8"
      ],
      "metadata": {
        "id": "I_O0A4R8wMe4"
      }
    },
    {
      "cell_type": "code",
      "source": [
        "from torchvision.transforms import Normalize\n",
        "normalize = Normalize((0.5, 0.5, 0.5), (0.5, 0.5, 0.5))\n",
        "\n",
        "normalized_tensor = normalize(tensor)\n",
        "\n",
        "min_value = normalized_tensor.min().item()\n",
        "max_value = normalized_tensor.max().item()\n",
        "\n",
        "print(min_value)\n",
        "print(max_value)\n"
      ],
      "metadata": {
        "colab": {
          "base_uri": "https://localhost:8080/"
        },
        "id": "D3R6XKImOEmX",
        "outputId": "70d54bb6-cbad-47e3-ee47-b94f8f4656a1"
      },
      "execution_count": null,
      "outputs": [
        {
          "output_type": "stream",
          "name": "stdout",
          "text": [
            "-1.0\n",
            "0.9137254953384399\n"
          ]
        }
      ]
    },
    {
      "cell_type": "markdown",
      "source": [
        "#9"
      ],
      "metadata": {
        "id": "1JrVJ0sbwQF3"
      }
    },
    {
      "cell_type": "code",
      "source": [
        "from torchvision.transforms import Compose\n",
        "Compose([totensor, normalize])\n",
        "cifar.transform = Compose([totensor, normalize])\n",
        "cifar[13]"
      ],
      "metadata": {
        "colab": {
          "base_uri": "https://localhost:8080/"
        },
        "id": "woLLfHzBZras",
        "outputId": "9abec6f8-69b5-4e61-b344-c82131d55a06"
      },
      "execution_count": null,
      "outputs": [
        {
          "output_type": "execute_result",
          "data": {
            "text/plain": [
              "(tensor([[[-0.8667, -0.8667, -0.8667,  ..., -0.8196, -0.8275, -0.8510],\n",
              "          [-0.8588, -0.8588, -0.8588,  ..., -0.8118, -0.8196, -0.8275],\n",
              "          [-0.8588, -0.8588, -0.8510,  ..., -0.8118, -0.8196, -0.8196],\n",
              "          ...,\n",
              "          [ 0.7020,  0.7725,  0.6471,  ..., -0.7412, -0.7490, -0.7412],\n",
              "          [ 0.7176,  0.7412,  0.6784,  ..., -0.7255, -0.7333, -0.7412],\n",
              "          [ 0.6471,  0.7333,  0.6863,  ..., -0.7176, -0.7333, -0.7490]],\n",
              " \n",
              "         [[-0.9765, -0.9765, -0.9843,  ..., -0.8980, -0.9059, -0.9294],\n",
              "          [-0.9686, -0.9686, -0.9686,  ..., -0.8902, -0.8980, -0.9059],\n",
              "          [-0.9686, -0.9686, -0.9608,  ..., -0.8902, -0.8980, -0.8980],\n",
              "          ...,\n",
              "          [ 0.6784,  0.7176,  0.5765,  ..., -0.8118, -0.8196, -0.8118],\n",
              "          [ 0.6863,  0.6863,  0.6314,  ..., -0.7961, -0.8039, -0.8118],\n",
              "          [ 0.6314,  0.6941,  0.6627,  ..., -0.7882, -0.8039, -0.8196]],\n",
              " \n",
              "         [[-0.9843, -0.9843, -0.9922,  ..., -0.9137, -0.9216, -0.9451],\n",
              "          [-0.9765, -0.9765, -0.9765,  ..., -0.9059, -0.9137, -0.9216],\n",
              "          [-0.9765, -0.9765, -0.9686,  ..., -0.9059, -0.9137, -0.9137],\n",
              "          ...,\n",
              "          [ 0.7490,  0.7804,  0.6706,  ..., -0.8667, -0.8745, -0.8667],\n",
              "          [ 0.8039,  0.7961,  0.7647,  ..., -0.8510, -0.8588, -0.8667],\n",
              "          [ 0.7490,  0.7961,  0.7804,  ..., -0.8431, -0.8588, -0.8745]]]),\n",
              " 2)"
            ]
          },
          "metadata": {},
          "execution_count": 12
        }
      ]
    },
    {
      "cell_type": "code",
      "source": [
        "#tensor shape, dtype, and range of values\n",
        "(x, y) = cifar[13]\n",
        "print(x.shape)\n",
        "print(x.dtype)\n",
        "print(x.max() - x.min())"
      ],
      "metadata": {
        "colab": {
          "base_uri": "https://localhost:8080/"
        },
        "id": "UY63euBIbAsV",
        "outputId": "58768e86-fc84-4bc2-a828-2d8db6702f77"
      },
      "execution_count": null,
      "outputs": [
        {
          "output_type": "stream",
          "name": "stdout",
          "text": [
            "torch.Size([3, 32, 32])\n",
            "torch.float32\n",
            "tensor(1.9137)\n"
          ]
        }
      ]
    },
    {
      "cell_type": "markdown",
      "source": [
        "#10"
      ],
      "metadata": {
        "id": "0KlDKP2SwXTV"
      }
    },
    {
      "cell_type": "code",
      "source": [
        "from torch.utils.data import DataLoader\n",
        "loader = DataLoader(cifar, batch_size=4, shuffle=True)\n",
        "i = iter(loader)\n",
        "(X, y) = next(i)\n",
        "print(X.shape)\n",
        "print(y.shape)\n",
        "y"
      ],
      "metadata": {
        "colab": {
          "base_uri": "https://localhost:8080/"
        },
        "id": "6Pjb2y02caTH",
        "outputId": "ce5a8800-6532-46b5-f087-fded55380c21"
      },
      "execution_count": null,
      "outputs": [
        {
          "output_type": "stream",
          "name": "stdout",
          "text": [
            "torch.Size([4, 3, 32, 32])\n",
            "torch.Size([4])\n"
          ]
        },
        {
          "output_type": "execute_result",
          "data": {
            "text/plain": [
              "tensor([1, 7, 2, 3])"
            ]
          },
          "metadata": {},
          "execution_count": 14
        }
      ]
    },
    {
      "cell_type": "markdown",
      "source": [
        "The dimensions of X represent the batch size, the number of channels, and the height and width of the image. Meanwhile, the size of y corresponds to the batch size, and the numbers represent 4 classes selected from the 10 classes from CIFAR-10."
      ],
      "metadata": {
        "id": "-G5XdBo-sVOj"
      }
    },
    {
      "cell_type": "markdown",
      "source": [
        "#11"
      ],
      "metadata": {
        "id": "msdO8J5ew7-X"
      }
    },
    {
      "cell_type": "code",
      "source": [
        "from torch.nn import Conv2d\n",
        "import torch.nn as nn\n",
        "\n",
        "conv = nn.Conv2d(in_channels=3, out_channels=6, kernel_size=5, padding=2)\n",
        "output = conv(X)\n",
        "output.shape"
      ],
      "metadata": {
        "id": "O6cz6DJoEd96",
        "colab": {
          "base_uri": "https://localhost:8080/"
        },
        "outputId": "6267166d-94f0-41a3-9bf4-ff66a816eedc"
      },
      "execution_count": null,
      "outputs": [
        {
          "output_type": "execute_result",
          "data": {
            "text/plain": [
              "torch.Size([4, 6, 32, 32])"
            ]
          },
          "metadata": {},
          "execution_count": 15
        }
      ]
    },
    {
      "cell_type": "markdown",
      "source": [
        "#12"
      ],
      "metadata": {
        "id": "V2X89cnIxA59"
      }
    },
    {
      "cell_type": "code",
      "source": [
        "import torch\n",
        "import torch.nn as nn\n",
        "import torch.nn.functional as F\n",
        "\n",
        "class Net(nn.Module):\n",
        "    def __init__(self):\n",
        "        super(Net, self).__init__()\n",
        "        self.conv1 = nn.Conv2d(3, 6, kernel_size=5, padding=2)\n",
        "        self.conv2 = nn.Conv2d(6, 16, kernel_size=5, padding=2)\n",
        "        self.linear1 = nn.Linear(16 * 8 * 8, 512)\n",
        "        self.linear2 = nn.Linear(512, 84)\n",
        "        self.linear3 = nn.Linear(84, 10)\n",
        "\n",
        "    def forward(self, X):\n",
        "        X = F.max_pool2d(F.relu(self.conv1(X)), 2)\n",
        "        X = F.max_pool2d(F.relu(self.conv2(X)), 2)\n",
        "        X = X.view(X.shape[0], -1)\n",
        "        X = F.relu(self.linear1(X))\n",
        "        X = F.relu(self.linear2(X))\n",
        "        X = self.linear3(X)\n",
        "        return X"
      ],
      "metadata": {
        "id": "uEaPK0vdL0z0"
      },
      "execution_count": null,
      "outputs": []
    },
    {
      "cell_type": "markdown",
      "source": [
        "13.\n",
        "(a) After the first convolution, there are six channels of size 32 pixels by 32 pixels.\n",
        "(b) After the first max pooling, there are still six channels, but the size of image is halved to 16 by 16 pixels.\n",
        "(c) After the second convolution, there would be 16 channels and the size will be 16 by 16 pixels.\n",
        "(d) After the second max pooling, there are still 16 channels but the size of the image will be halved again to 8 by 8 pixels."
      ],
      "metadata": {
        "id": "wmBG5gbHXLoa"
      }
    },
    {
      "cell_type": "markdown",
      "source": [
        "#14"
      ],
      "metadata": {
        "id": "SEaWqv5oxZ9j"
      }
    },
    {
      "cell_type": "code",
      "source": [
        "net = Net()\n",
        "yhat = net(X)\n",
        "yhat.size"
      ],
      "metadata": {
        "id": "dqWPrYiLaWtu"
      },
      "execution_count": null,
      "outputs": []
    },
    {
      "cell_type": "markdown",
      "source": [
        "#15"
      ],
      "metadata": {
        "id": "Xa-YsX1WxfBv"
      }
    },
    {
      "cell_type": "code",
      "source": [
        "net = Net()\n",
        "yhat = net(X)\n",
        "probabilities = F.softmax(yhat, dim=1)\n",
        "predicted_class = torch.argmax(probabilities[0]).item()\n",
        "predicted_class"
      ],
      "metadata": {
        "colab": {
          "base_uri": "https://localhost:8080/",
          "height": 207
        },
        "id": "1w32z3cLxJ86",
        "outputId": "b94cca41-4d6e-408f-8b19-823d1ccc60fc"
      },
      "execution_count": null,
      "outputs": [
        {
          "output_type": "error",
          "ename": "NameError",
          "evalue": "name 'Net' is not defined",
          "traceback": [
            "\u001b[0;31m---------------------------------------------------------------------------\u001b[0m",
            "\u001b[0;31mNameError\u001b[0m                                 Traceback (most recent call last)",
            "\u001b[0;32m<ipython-input-1-c956f9064f26>\u001b[0m in \u001b[0;36m<cell line: 1>\u001b[0;34m()\u001b[0m\n\u001b[0;32m----> 1\u001b[0;31m \u001b[0mnet\u001b[0m \u001b[0;34m=\u001b[0m \u001b[0mNet\u001b[0m\u001b[0;34m(\u001b[0m\u001b[0;34m)\u001b[0m\u001b[0;34m\u001b[0m\u001b[0;34m\u001b[0m\u001b[0m\n\u001b[0m\u001b[1;32m      2\u001b[0m \u001b[0myhat\u001b[0m \u001b[0;34m=\u001b[0m \u001b[0mnet\u001b[0m\u001b[0;34m(\u001b[0m\u001b[0mX\u001b[0m\u001b[0;34m)\u001b[0m\u001b[0;34m\u001b[0m\u001b[0;34m\u001b[0m\u001b[0m\n\u001b[1;32m      3\u001b[0m \u001b[0mprobabilities\u001b[0m \u001b[0;34m=\u001b[0m \u001b[0mF\u001b[0m\u001b[0;34m.\u001b[0m\u001b[0msoftmax\u001b[0m\u001b[0;34m(\u001b[0m\u001b[0myhat\u001b[0m\u001b[0;34m,\u001b[0m \u001b[0mdim\u001b[0m\u001b[0;34m=\u001b[0m\u001b[0;36m1\u001b[0m\u001b[0;34m)\u001b[0m\u001b[0;34m\u001b[0m\u001b[0;34m\u001b[0m\u001b[0m\n\u001b[1;32m      4\u001b[0m \u001b[0mpredicted_class\u001b[0m \u001b[0;34m=\u001b[0m \u001b[0mtorch\u001b[0m\u001b[0;34m.\u001b[0m\u001b[0margmax\u001b[0m\u001b[0;34m(\u001b[0m\u001b[0mprobabilities\u001b[0m\u001b[0;34m[\u001b[0m\u001b[0;36m0\u001b[0m\u001b[0;34m]\u001b[0m\u001b[0;34m)\u001b[0m\u001b[0;34m.\u001b[0m\u001b[0mitem\u001b[0m\u001b[0;34m(\u001b[0m\u001b[0;34m)\u001b[0m\u001b[0;34m\u001b[0m\u001b[0;34m\u001b[0m\u001b[0m\n\u001b[1;32m      5\u001b[0m \u001b[0mpredicted_class\u001b[0m\u001b[0;34m\u001b[0m\u001b[0;34m\u001b[0m\u001b[0m\n",
            "\u001b[0;31mNameError\u001b[0m: name 'Net' is not defined"
          ]
        }
      ]
    },
    {
      "cell_type": "markdown",
      "source": [
        "#16"
      ],
      "metadata": {
        "id": "JJlpy-xexm1Q"
      }
    },
    {
      "cell_type": "code",
      "source": [
        "loss = nn.CrossEntropyLoss()\n",
        "loss(yhat, y)"
      ],
      "metadata": {
        "colab": {
          "base_uri": "https://localhost:8080/"
        },
        "id": "N7x9ct4wNQir",
        "outputId": "5fec2e31-99df-4b55-c840-8a4e8392314c"
      },
      "execution_count": null,
      "outputs": [
        {
          "output_type": "execute_result",
          "data": {
            "text/plain": [
              "tensor(2.3083, grad_fn=<NllLossBackward0>)"
            ]
          },
          "metadata": {},
          "execution_count": 18
        }
      ]
    },
    {
      "cell_type": "markdown",
      "source": [
        "#17"
      ],
      "metadata": {
        "id": "VoaBrHZPxqCf"
      }
    },
    {
      "cell_type": "code",
      "source": [
        "from torch.optim import SGD\n",
        "sgd = SGD(net.parameters(), lr=0.01)"
      ],
      "metadata": {
        "id": "0ZoVHbyqRCRX"
      },
      "execution_count": null,
      "outputs": []
    },
    {
      "cell_type": "markdown",
      "source": [
        "#18"
      ],
      "metadata": {
        "id": "aNG_ib7oxtqt"
      }
    },
    {
      "cell_type": "code",
      "source": [
        "def step(Net, X, y, lossf, optz):\n",
        "    yhat = Net(X)\n",
        "    J = lossf(yhat, y)\n",
        "    J.backward()\n",
        "    optz.step()\n",
        "    optz.zero_grad()\n",
        "    return J.item()"
      ],
      "metadata": {
        "id": "1gqgZY51PYbf"
      },
      "execution_count": null,
      "outputs": []
    },
    {
      "cell_type": "code",
      "source": [
        "step(net, X, y, loss, sgd)"
      ],
      "metadata": {
        "colab": {
          "base_uri": "https://localhost:8080/"
        },
        "id": "zS-YZtbrRBkM",
        "outputId": "24b02cd3-29a4-466e-a19b-fc29e8b4fa0c"
      },
      "execution_count": null,
      "outputs": [
        {
          "output_type": "execute_result",
          "data": {
            "text/plain": [
              "2.308255434036255"
            ]
          },
          "metadata": {},
          "execution_count": 21
        }
      ]
    },
    {
      "cell_type": "code",
      "source": [
        "step(net, X, y, loss, sgd)"
      ],
      "metadata": {
        "colab": {
          "base_uri": "https://localhost:8080/"
        },
        "id": "nIwTsab3cGQ2",
        "outputId": "b6a97e6c-516b-4088-fc4d-2345262a7bec",
        "collapsed": true
      },
      "execution_count": null,
      "outputs": [
        {
          "output_type": "execute_result",
          "data": {
            "text/plain": [
              "2.3042917251586914"
            ]
          },
          "metadata": {},
          "execution_count": 22
        }
      ]
    },
    {
      "cell_type": "code",
      "source": [
        "class Printer (object):\n",
        "  def __init__ (self):\n",
        "    self.n = 0\n",
        "    self.total = 0\n",
        "\n",
        "  def __call__ (self, J):\n",
        "    self.n += 1\n",
        "    self.total += J\n",
        "    if self.n >= 1000:\n",
        "      print('J =', self.total/1000)\n",
        "      self.n = 0\n",
        "      self.total = 0"
      ],
      "metadata": {
        "id": "kW7Ihl6beYFV"
      },
      "execution_count": null,
      "outputs": []
    },
    {
      "cell_type": "markdown",
      "source": [
        "#19"
      ],
      "metadata": {
        "id": "YFmzFLthx0n_"
      }
    },
    {
      "cell_type": "code",
      "source": [
        "def train (X, y, stepsize, nepochs):\n",
        "  net = Net()\n",
        "  optimizer = torch.optim.SGD(net.parameters(), lr=stepsize)\n",
        "  printer = Printer()\n",
        "  loader = DataLoader(cifar, batch_size=4, shuffle=True)\n",
        "  for _ in range(nepochs):\n",
        "    for X_batch, y_batch in loader:\n",
        "      loss = step(net, X_batch, y_batch, nn.CrossEntropyLoss(), optimizer)\n",
        "      printer(loss)\n",
        "  return net"
      ],
      "metadata": {
        "id": "_ZxS7-CXj8OD"
      },
      "execution_count": null,
      "outputs": []
    },
    {
      "cell_type": "markdown",
      "source": [
        "#20"
      ],
      "metadata": {
        "id": "bRULhjT0x5SM"
      }
    },
    {
      "cell_type": "code",
      "source": [
        "train(X, y, 0.03, 1)"
      ],
      "metadata": {
        "colab": {
          "base_uri": "https://localhost:8080/"
        },
        "id": "1ReTQJizlDJM",
        "outputId": "64c230f2-0568-4f6a-ac19-925dfd1320df"
      },
      "execution_count": null,
      "outputs": [
        {
          "output_type": "stream",
          "name": "stdout",
          "text": [
            "J = 2.14706373912096\n",
            "J = 1.8614519842863082\n",
            "J = 1.6994305655658246\n",
            "J = 1.6272699358463287\n",
            "J = 1.5718537667989732\n",
            "J = 1.5242302156090737\n",
            "J = 1.4864917940497397\n",
            "J = 1.4592789969444275\n",
            "J = 1.3842408484667539\n",
            "J = 1.3443503103926777\n",
            "J = 1.3524632850587368\n",
            "J = 1.329352900326252\n"
          ]
        },
        {
          "output_type": "execute_result",
          "data": {
            "text/plain": [
              "Net(\n",
              "  (conv1): Conv2d(3, 6, kernel_size=(5, 5), stride=(1, 1), padding=(2, 2))\n",
              "  (conv2): Conv2d(6, 16, kernel_size=(5, 5), stride=(1, 1), padding=(2, 2))\n",
              "  (linear1): Linear(in_features=1024, out_features=512, bias=True)\n",
              "  (linear2): Linear(in_features=512, out_features=84, bias=True)\n",
              "  (linear3): Linear(in_features=84, out_features=10, bias=True)\n",
              ")"
            ]
          },
          "metadata": {},
          "execution_count": 37
        }
      ]
    },
    {
      "cell_type": "code",
      "source": [
        "test = CIFAR10(root='data', train=False, download=True)\n",
        "test.transform = cifar.transform\n",
        "testloader = DataLoader(test)"
      ],
      "metadata": {
        "colab": {
          "base_uri": "https://localhost:8080/"
        },
        "id": "3AwPK3V0oRaN",
        "outputId": "a3c748d1-2040-4b8f-f514-6dea2d1dee7c"
      },
      "execution_count": null,
      "outputs": [
        {
          "output_type": "stream",
          "name": "stdout",
          "text": [
            "Files already downloaded and verified\n"
          ]
        }
      ]
    },
    {
      "cell_type": "markdown",
      "source": [
        "#21"
      ],
      "metadata": {
        "id": "zSbidmiJx-eZ"
      }
    },
    {
      "cell_type": "code",
      "source": [
        "def print_accuracy(net, testloader):\n",
        "  CIFAR_CLASSES = ['airplane', 'automobile', 'bird', 'cat', 'deer', 'dog', 'frog', 'horse', 'ship', 'truck']\n",
        "  net.eval()\n",
        "  correct_per_class = [0] * 10\n",
        "  total_per_class = [0] * 10\n",
        "  correct_total = 0\n",
        "  total_samples = 0\n",
        "\n",
        "  with torch.no_grad():\n",
        "    for X_batch, y_batch in loader:\n",
        "      outputs = net(X_batch)\n",
        "      _, predictions = torch.max(outputs, 1)\n",
        "      for i in range(len(y_batch)):\n",
        "        label = y_batch[i].item()\n",
        "        if predictions[i].item() == label:\n",
        "          correct_per_class[label] += 1\n",
        "          total_per_class[label] += 1\n",
        "          correct_total += (predictions == y_batch).sum().item()\n",
        "          total_samples += len(y_batch)\n",
        "\n",
        "    overall_accuracy = correct_total / total_samples\n",
        "\n",
        "    print(f\"Overall Accuracy: {overall_accuracy * 100:.2f}%\")\n",
        "    print(\"\\nClass-wise Accuracy:\")\n",
        "    for i in range(10):\n",
        "        class_accuracy = correct_per_class[i] / total_per_class[i] if total_per_class[i] > 0 else 0\n",
        "        print(f\"{CIFAR_CLASSES[i]:<10}: {class_accuracy * 100:.2f}%\")\n"
      ],
      "metadata": {
        "id": "RoY2W0sKpNb_"
      },
      "execution_count": null,
      "outputs": []
    },
    {
      "cell_type": "code",
      "source": [
        "print_accuracy(net, loader)"
      ],
      "metadata": {
        "colab": {
          "base_uri": "https://localhost:8080/"
        },
        "id": "iZE3MesQNueL",
        "outputId": "ce29cf6e-e37e-4861-ecca-6df993ae9fc9"
      },
      "execution_count": null,
      "outputs": [
        {
          "output_type": "stream",
          "name": "stdout",
          "text": [
            "Overall Accuracy: 32.37%\n",
            "\n",
            "Class-wise Accuracy:\n",
            "airplane  : 0.00%\n",
            "automobile: 100.00%\n",
            "bird      : 0.00%\n",
            "cat       : 100.00%\n",
            "deer      : 100.00%\n",
            "dog       : 0.00%\n",
            "frog      : 0.00%\n",
            "horse     : 0.00%\n",
            "ship      : 0.00%\n",
            "truck     : 0.00%\n"
          ]
        }
      ]
    },
    {
      "cell_type": "markdown",
      "source": [
        "#22"
      ],
      "metadata": {
        "id": "dfZp68ZxyHTG"
      }
    },
    {
      "cell_type": "code",
      "source": [
        "import torch\n",
        "import numpy as np\n",
        "\n",
        "param_dict = dict(net.named_parameters())\n",
        "param_names = list(param_dict.keys())\n",
        "print(\"Parameter names:\")\n",
        "print(param_names)\n",
        "\n",
        "W = param_dict['conv1.weight']\n",
        "print(W.shape)\n",
        "\n",
        "kernel = W[1, 0, :, :]\n",
        "W_numpy = W.detach().numpy()"
      ],
      "metadata": {
        "colab": {
          "base_uri": "https://localhost:8080/",
          "height": 207
        },
        "id": "gD7nNuVpO-nA",
        "outputId": "61910a29-9e68-49e1-e15d-11795a3ccbb2"
      },
      "execution_count": 1,
      "outputs": [
        {
          "output_type": "error",
          "ename": "NameError",
          "evalue": "name 'net' is not defined",
          "traceback": [
            "\u001b[0;31m---------------------------------------------------------------------------\u001b[0m",
            "\u001b[0;31mNameError\u001b[0m                                 Traceback (most recent call last)",
            "\u001b[0;32m<ipython-input-1-1e5b481c833f>\u001b[0m in \u001b[0;36m<cell line: 0>\u001b[0;34m()\u001b[0m\n\u001b[1;32m      2\u001b[0m \u001b[0;32mimport\u001b[0m \u001b[0mnumpy\u001b[0m \u001b[0;32mas\u001b[0m \u001b[0mnp\u001b[0m\u001b[0;34m\u001b[0m\u001b[0;34m\u001b[0m\u001b[0m\n\u001b[1;32m      3\u001b[0m \u001b[0;34m\u001b[0m\u001b[0m\n\u001b[0;32m----> 4\u001b[0;31m \u001b[0mparam_dict\u001b[0m \u001b[0;34m=\u001b[0m \u001b[0mdict\u001b[0m\u001b[0;34m(\u001b[0m\u001b[0mnet\u001b[0m\u001b[0;34m.\u001b[0m\u001b[0mnamed_parameters\u001b[0m\u001b[0;34m(\u001b[0m\u001b[0;34m)\u001b[0m\u001b[0;34m)\u001b[0m\u001b[0;34m\u001b[0m\u001b[0;34m\u001b[0m\u001b[0m\n\u001b[0m\u001b[1;32m      5\u001b[0m \u001b[0mparam_names\u001b[0m \u001b[0;34m=\u001b[0m \u001b[0mlist\u001b[0m\u001b[0;34m(\u001b[0m\u001b[0mparam_dict\u001b[0m\u001b[0;34m.\u001b[0m\u001b[0mkeys\u001b[0m\u001b[0;34m(\u001b[0m\u001b[0;34m)\u001b[0m\u001b[0;34m)\u001b[0m\u001b[0;34m\u001b[0m\u001b[0;34m\u001b[0m\u001b[0m\n\u001b[1;32m      6\u001b[0m \u001b[0mprint\u001b[0m\u001b[0;34m(\u001b[0m\u001b[0;34m\"Parameter names:\"\u001b[0m\u001b[0;34m)\u001b[0m\u001b[0;34m\u001b[0m\u001b[0;34m\u001b[0m\u001b[0m\n",
            "\u001b[0;31mNameError\u001b[0m: name 'net' is not defined"
          ]
        }
      ]
    },
    {
      "cell_type": "markdown",
      "source": [
        "#23"
      ],
      "metadata": {
        "id": "sSwy1U0xyMat"
      }
    },
    {
      "cell_type": "code",
      "source": [
        "def adjust_range(kernel):\n",
        "    return (kernel + 1) / 2\n",
        "\n",
        "kernel = W[0, 0, :, :]\n",
        "adjusted_kernel = adjust_range(kernel.detach().numpy())\n",
        "plt.imshow(adjusted_kernel, cmap='gray')"
      ],
      "metadata": {
        "colab": {
          "base_uri": "https://localhost:8080/",
          "height": 447
        },
        "id": "Ff5H29bLQVM_",
        "outputId": "1f811b65-6344-47f7-d364-5aff38db0729"
      },
      "execution_count": null,
      "outputs": [
        {
          "output_type": "execute_result",
          "data": {
            "text/plain": [
              "<matplotlib.image.AxesImage at 0x7f24e0b88e20>"
            ]
          },
          "metadata": {},
          "execution_count": 49
        },
        {
          "output_type": "display_data",
          "data": {
            "text/plain": [
              "<Figure size 640x480 with 1 Axes>"
            ],
            "image/png": "[encoded data removed]"
          },
          "metadata": {}
        }
      ]
    },
    {
      "cell_type": "markdown",
      "source": [
        "#24"
      ],
      "metadata": {
        "id": "BzKkpf1hyQ78"
      }
    },
    {
      "cell_type": "code",
      "source": [
        "fig = plt.figure(figsize=(3, 6))  # 3 columns, 6 rows\n",
        "axx = fig.subplots(6, 3)\n",
        "\n",
        "for i in range(6):\n",
        "    for j in range(3):\n",
        "        kernel = W[i, j, :, :]\n",
        "        adjusted_kernel = adjust_range(kernel.detach().numpy())\n",
        "        axx[i, j].imshow(adjusted_kernel, cmap='gray')\n"
      ],
      "metadata": {
        "colab": {
          "base_uri": "https://localhost:8080/",
          "height": 522
        },
        "id": "qGPgsq3lRTLQ",
        "outputId": "9e0c5e87-4e71-4d9d-faa0-1fbdac7ea8e0"
      },
      "execution_count": null,
      "outputs": [
        {
          "output_type": "display_data",
          "data": {
            "text/plain": [
              "<Figure size 300x600 with 18 Axes>"
            ],
            "image/png": "[encoded data removed]"
          },
          "metadata": {}
        }
      ]
    }
  ]
}